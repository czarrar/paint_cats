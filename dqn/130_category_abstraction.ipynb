{
 "cells": [
  {
   "cell_type": "code",
   "execution_count": 1,
   "metadata": {},
   "outputs": [],
   "source": [
    "import sys\n",
    "sys.path.append('../gym_art')\n",
    "\n",
    "from PIL import Image\n",
    "\n",
    "from paintings import PaintingEnv\n",
    "import numpy as np\n",
    "import pandas as pd\n",
    "from collections import defaultdict, namedtuple, deque\n",
    "\n",
    "from tqdm import tqdm\n",
    "import plotnine as pn"
   ]
  },
  {
   "cell_type": "markdown",
   "metadata": {},
   "source": [
    "What is our output"
   ]
  },
  {
   "cell_type": "code",
   "execution_count": 3,
   "metadata": {},
   "outputs": [],
   "source": [
    "env = PaintingEnv()"
   ]
  },
  {
   "cell_type": "markdown",
   "metadata": {},
   "source": [
    "## Factors\n",
    "\n",
    "There are two main factors here. Artist (gallery) and painting type (concrete, intermediate, abstract)."
   ]
  },
  {
   "cell_type": "code",
   "execution_count": 22,
   "metadata": {},
   "outputs": [
    {
     "name": "stdout",
     "output_type": "stream",
     "text": [
      "['Rot', 'Cli', 'Mon']\n",
      "['concrete', 'intermediate', 'abstract']\n"
     ]
    }
   ],
   "source": [
    "artists = list(env.artist_to_val.keys())\n",
    "ptypes = ['concrete', 'intermediate', 'abstract']\n",
    "\n",
    "print(artists)\n",
    "print(ptypes)"
   ]
  },
  {
   "cell_type": "markdown",
   "metadata": {},
   "source": [
    "## What We Have Now"
   ]
  },
  {
   "cell_type": "code",
   "execution_count": 17,
   "metadata": {},
   "outputs": [],
   "source": [
    "state, reward, done, info = env.reset(full_reset=False) # reset environment"
   ]
  },
  {
   "cell_type": "code",
   "execution_count": 18,
   "metadata": {},
   "outputs": [],
   "source": [
    "next_state, reward, done, info2 = env.step(0)"
   ]
  },
  {
   "cell_type": "code",
   "execution_count": 19,
   "metadata": {},
   "outputs": [
    {
     "data": {
      "text/plain": [
       "{'left': {'name': 'Clib1n',\n",
       "  'type': 'concrete',\n",
       "  'train': True,\n",
       "  'style': 'Cli',\n",
       "  'phase': 1,\n",
       "  'value': 0,\n",
       "  'path': '/Users/czarrar/Dropbox/ABD/Areas/Lab_Work/paint_cats/gym_art/stimuli/Clib1n.jpeg',\n",
       "  'display_value': 20},\n",
       " 'right': {'name': 'Clia2n',\n",
       "  'type': 'intermediate',\n",
       "  'train': True,\n",
       "  'style': 'Cli',\n",
       "  'phase': 1,\n",
       "  'value': 0,\n",
       "  'path': '/Users/czarrar/Dropbox/ABD/Areas/Lab_Work/paint_cats/gym_art/stimuli/Clia2n.jpeg',\n",
       "  'display_value': 20},\n",
       " 'trial_type': 'same artist'}"
      ]
     },
     "execution_count": 19,
     "metadata": {},
     "output_type": "execute_result"
    }
   ],
   "source": [
    "info"
   ]
  },
  {
   "cell_type": "markdown",
   "metadata": {},
   "source": [
    "## Creating New States\n",
    "\n",
    "We want to make a new state based on the artist and painting type. This will be a tuple for the left and right painting. Each painting will have 6 values. 3 values for the artist and 3 values for the painting type (one hot encoding)."
   ]
  },
  {
   "cell_type": "code",
   "execution_count": 43,
   "metadata": {},
   "outputs": [
    {
     "data": {
      "text/plain": [
       "{'left': {'name': 'Clib1n',\n",
       "  'type': 'concrete',\n",
       "  'train': True,\n",
       "  'style': 'Cli',\n",
       "  'phase': 1,\n",
       "  'value': 0,\n",
       "  'path': '/Users/czarrar/Dropbox/ABD/Areas/Lab_Work/paint_cats/gym_art/stimuli/Clib1n.jpeg',\n",
       "  'display_value': 20},\n",
       " 'right': {'name': 'Clia2n',\n",
       "  'type': 'intermediate',\n",
       "  'train': True,\n",
       "  'style': 'Cli',\n",
       "  'phase': 1,\n",
       "  'value': 0,\n",
       "  'path': '/Users/czarrar/Dropbox/ABD/Areas/Lab_Work/paint_cats/gym_art/stimuli/Clia2n.jpeg',\n",
       "  'display_value': 20},\n",
       " 'trial_type': 'same artist'}"
      ]
     },
     "execution_count": 43,
     "metadata": {},
     "output_type": "execute_result"
    }
   ],
   "source": [
    "info"
   ]
  },
  {
   "cell_type": "code",
   "execution_count": 47,
   "metadata": {},
   "outputs": [
    {
     "data": {
      "text/plain": [
       "[['Cli', 'concrete'], ['Cli', 'intermediate']]"
      ]
     },
     "execution_count": 47,
     "metadata": {},
     "output_type": "execute_result"
    }
   ],
   "source": [
    "trial_info = [ [sinfo['style'],sinfo['type']] for side,sinfo in info.items() if side in ['left','right'] ]\n",
    "trial_info"
   ]
  },
  {
   "cell_type": "code",
   "execution_count": 26,
   "metadata": {},
   "outputs": [],
   "source": [
    "from sklearn.preprocessing import OneHotEncoder"
   ]
  },
  {
   "cell_type": "code",
   "execution_count": 27,
   "metadata": {},
   "outputs": [],
   "source": [
    "enc = OneHotEncoder(categories=[np.array(artists), np.array(ptypes)])"
   ]
  },
  {
   "cell_type": "code",
   "execution_count": 49,
   "metadata": {},
   "outputs": [
    {
     "data": {
      "text/plain": [
       "array([[0., 1., 0., 1., 0., 0.],\n",
       "       [0., 1., 0., 0., 1., 0.]])"
      ]
     },
     "execution_count": 49,
     "metadata": {},
     "output_type": "execute_result"
    }
   ],
   "source": [
    "enc.fit_transform(trial_info).toarray()"
   ]
  },
  {
   "cell_type": "code",
   "execution_count": 53,
   "metadata": {},
   "outputs": [
    {
     "data": {
      "text/plain": [
       "array([0., 1., 0., 1., 0., 0., 0., 1., 0., 0., 1., 0.])"
      ]
     },
     "execution_count": 53,
     "metadata": {},
     "output_type": "execute_result"
    }
   ],
   "source": [
    "enc.fit_transform(trial_info).toarray().flatten()"
   ]
  },
  {
   "cell_type": "markdown",
   "metadata": {},
   "source": [
    "## Make to a Function"
   ]
  },
  {
   "cell_type": "code",
   "execution_count": 54,
   "metadata": {},
   "outputs": [],
   "source": [
    "def get_direct_state(info):\n",
    "    trial_info = [ [sinfo['style'],sinfo['type']] for side,sinfo in info.items() if side in ['left','right'] ]\n",
    "    state = enc.fit_transform(trial_info).toarray().flatten()\n",
    "    return state"
   ]
  },
  {
   "cell_type": "markdown",
   "metadata": {},
   "source": [
    "# Run It\n",
    "\n",
    "## Original Model\n",
    "\n",
    "This is the model where the two left and right painting are concatenated together."
   ]
  },
  {
   "cell_type": "code",
   "execution_count": 58,
   "metadata": {},
   "outputs": [],
   "source": [
    "import agent\n",
    "#from importlib import reload\n",
    "#agent = reload(agent)\n",
    "Agent = agent.Agent"
   ]
  },
  {
   "cell_type": "code",
   "execution_count": 61,
   "metadata": {},
   "outputs": [],
   "source": [
    "def dqn(agent, n_episodes=100, eps_start=1.0, eps_end=0.1, eps_decay=0.995, train_mode=True, \n",
    "        ckpt_path='pth_checkpoints/checkpoint.pth'):\n",
    "    \"\"\"Deep Q-Learning.\n",
    "    \n",
    "    Params\n",
    "    ======\n",
    "        agent (Agent): The agent\n",
    "        n_episodes (int): maximum number of training episodes\n",
    "        max_t (int): maximum number of timesteps per episode\n",
    "        eps_start (float): starting value of epsilon, for epsilon-greedy action selection\n",
    "        eps_end (float): minimum value of epsilon\n",
    "        eps_decay (float): multiplicative factor (per episode) for decreasing epsilon\n",
    "        train_mode (bool): if 'True' set environment to training mode\n",
    "    \"\"\"\n",
    "    scores = []                        # list containing scores from each episode\n",
    "    moving_avgs = []                   # list of moving averages\n",
    "    eps = eps_start                    # initialize epsilon\n",
    "    for i_episode in range(1, n_episodes+1):\n",
    "        state, reward, done, info = env.reset(full_reset=False) # reset environment\n",
    "        score = 0\n",
    "        for t in range(env.n_trials - 1):\n",
    "            pp_state = get_direct_state(info)\n",
    "            action = agent.act(pp_state, eps)                   # select an action\n",
    "            next_state, reward, done, info = env.step(action)   # send action to environment\n",
    "            pp_next_state = get_direct_state(info)\n",
    "            agent.step(pp_state, action, reward, pp_next_state, done) # learning step\n",
    "            state = next_state\n",
    "            score += reward\n",
    "            if done:\n",
    "                break\n",
    "        mean_score = score/t # keep scores in range of 0-1, allow comparison to humans above\n",
    "        scores.append(mean_score)                 # save most recent score to total\n",
    "        moving_avg = np.mean(scores)  # calculate moving average\n",
    "        moving_avgs.append(moving_avg)       # save most recent moving average\n",
    "        eps = max(eps_end, eps_decay*eps)    # decrease epsilon\n",
    "        print('\\rEpisode {}\\tAverage Score: {:.2f}'.format(i_episode, moving_avg), end=\"\")\n",
    "        if i_episode % 5 == 0:\n",
    "            print('\\rEpisode {}\\tAverage Score: {:.2f}'.format(i_episode, moving_avg))\n",
    "    return scores, moving_avgs"
   ]
  },
  {
   "cell_type": "code",
   "execution_count": 84,
   "metadata": {},
   "outputs": [
    {
     "name": "stdout",
     "output_type": "stream",
     "text": [
      "Episode 5\tAverage Score: 0.40\n",
      "Episode 10\tAverage Score: 0.42\n",
      "Episode 15\tAverage Score: 0.42\n",
      "Episode 20\tAverage Score: 0.43\n",
      "Episode 25\tAverage Score: 0.43\n",
      "Episode 30\tAverage Score: 0.44\n",
      "Episode 35\tAverage Score: 0.44\n",
      "Episode 40\tAverage Score: 0.45\n",
      "Episode 45\tAverage Score: 0.45\n",
      "Episode 50\tAverage Score: 0.45\n",
      "Episode 55\tAverage Score: 0.45\n",
      "Episode 60\tAverage Score: 0.45\n",
      "Episode 65\tAverage Score: 0.46\n",
      "Episode 70\tAverage Score: 0.46\n",
      "Episode 75\tAverage Score: 0.46\n",
      "Episode 80\tAverage Score: 0.47\n",
      "Episode 85\tAverage Score: 0.47\n",
      "Episode 90\tAverage Score: 0.47\n",
      "Episode 95\tAverage Score: 0.47\n",
      "Episode 100\tAverage Score: 0.47\n"
     ]
    }
   ],
   "source": [
    "config_dict = {\n",
    "    'seed': 42, \n",
    "    'buffer_size': int(1e2), \n",
    "    'batch_size': 16, \n",
    "    'gamma': 0, # no gamma\n",
    "    'tau': 1e-2, \n",
    "    'loss_type': 'huber',\n",
    "    'gradient_clip': None, \n",
    "    'update_every': 4, \n",
    "    'lr': 5e-4, \n",
    "    'fc1_units': 64, \n",
    "    'fc2_units': 32, \n",
    "    'use_ddqn': False,\n",
    "    'use_dueling': False, \n",
    "    'use_per': False,\n",
    "    'per_a': 0.5, \n",
    "    'per_beta': 0.5, \n",
    "    'use_next_Q': True\n",
    "}\n",
    "agent = Agent(state_size=6*2, action_size=2, config_dict=config_dict)\n",
    "scores1, _ = dqn(agent, n_episodes=100, eps_decay=0.98, eps_end=0.1)"
   ]
  },
  {
   "cell_type": "code",
   "execution_count": 85,
   "metadata": {},
   "outputs": [
    {
     "name": "stdout",
     "output_type": "stream",
     "text": [
      "Episode 5\tAverage Score: 0.41\n",
      "Episode 10\tAverage Score: 0.42\n",
      "Episode 15\tAverage Score: 0.42\n",
      "Episode 20\tAverage Score: 0.43\n",
      "Episode 25\tAverage Score: 0.44\n",
      "Episode 30\tAverage Score: 0.44\n",
      "Episode 35\tAverage Score: 0.44\n",
      "Episode 40\tAverage Score: 0.45\n",
      "Episode 45\tAverage Score: 0.45\n",
      "Episode 50\tAverage Score: 0.45\n",
      "Episode 55\tAverage Score: 0.45\n",
      "Episode 60\tAverage Score: 0.45\n",
      "Episode 65\tAverage Score: 0.46\n",
      "Episode 70\tAverage Score: 0.46\n",
      "Episode 75\tAverage Score: 0.46\n",
      "Episode 80\tAverage Score: 0.47\n",
      "Episode 85\tAverage Score: 0.47\n",
      "Episode 90\tAverage Score: 0.47\n",
      "Episode 95\tAverage Score: 0.47\n",
      "Episode 100\tAverage Score: 0.47\n"
     ]
    }
   ],
   "source": [
    "config_dict = {\n",
    "    'seed': 42, \n",
    "    'buffer_size': int(1e2), \n",
    "    'batch_size': 16, \n",
    "    'gamma': 0, # no gamma\n",
    "    'tau': 1e-2, \n",
    "    'loss_type': 'huber',\n",
    "    'gradient_clip': None, \n",
    "    'update_every': 4, \n",
    "    'lr': 1e-2, \n",
    "    'fc1_units': 32, \n",
    "    'fc2_units': 16, \n",
    "    'use_ddqn': False,\n",
    "    'use_dueling': False, \n",
    "    'use_per': False,\n",
    "    'per_a': 0.5, \n",
    "    'per_beta': 0.5, \n",
    "    'use_next_Q': True\n",
    "}\n",
    "agent = Agent(state_size=6*2, action_size=2, config_dict=config_dict)\n",
    "scores2, _ = dqn(agent, n_episodes=100, eps_decay=0.98, eps_end=0.1)"
   ]
  },
  {
   "cell_type": "code",
   "execution_count": 86,
   "metadata": {},
   "outputs": [
    {
     "name": "stdout",
     "output_type": "stream",
     "text": [
      "Episode 5\tAverage Score: 0.41\n",
      "Episode 10\tAverage Score: 0.42\n",
      "Episode 15\tAverage Score: 0.43\n",
      "Episode 20\tAverage Score: 0.43\n",
      "Episode 25\tAverage Score: 0.43\n",
      "Episode 30\tAverage Score: 0.44\n",
      "Episode 35\tAverage Score: 0.44\n",
      "Episode 40\tAverage Score: 0.44\n",
      "Episode 45\tAverage Score: 0.44\n",
      "Episode 50\tAverage Score: 0.45\n",
      "Episode 55\tAverage Score: 0.45\n",
      "Episode 60\tAverage Score: 0.45\n",
      "Episode 65\tAverage Score: 0.45\n",
      "Episode 70\tAverage Score: 0.46\n",
      "Episode 75\tAverage Score: 0.46\n",
      "Episode 80\tAverage Score: 0.46\n",
      "Episode 85\tAverage Score: 0.46\n",
      "Episode 90\tAverage Score: 0.46\n",
      "Episode 95\tAverage Score: 0.46\n",
      "Episode 100\tAverage Score: 0.47\n"
     ]
    }
   ],
   "source": [
    "# Update every time, smaller batch size, smaller hidden units\n",
    "\n",
    "config_dict = {\n",
    "    'seed': 42, \n",
    "    'buffer_size': int(10), \n",
    "    'batch_size': 8, \n",
    "    'gamma': 0, # no gamma\n",
    "    'tau': 1e-2, \n",
    "    'loss_type': 'huber',\n",
    "    'gradient_clip': None, \n",
    "    'update_every': 1, \n",
    "    'lr': 1e-2, \n",
    "    'fc1_units': 16, \n",
    "    'fc2_units': 8, \n",
    "    'use_ddqn': False,\n",
    "    'use_dueling': False, \n",
    "    'use_per': False,\n",
    "    'per_a': 0.5, \n",
    "    'per_beta': 0.5\n",
    "}\n",
    "agent = Agent(state_size=6*2, action_size=2, config_dict=config_dict)\n",
    "scores3, _ = dqn(agent, n_episodes=100, eps_decay=0.98, eps_end=0.1)"
   ]
  },
  {
   "cell_type": "code",
   "execution_count": 87,
   "metadata": {},
   "outputs": [
    {
     "data": {
      "text/plain": [
       "array([1, 2, 3, 4, 5, 6, 7, 8, 9])"
      ]
     },
     "execution_count": 87,
     "metadata": {},
     "output_type": "execute_result"
    }
   ],
   "source": [
    "np.arange(1,10)"
   ]
  },
  {
   "cell_type": "code",
   "execution_count": 88,
   "metadata": {},
   "outputs": [
    {
     "data": {
      "text/html": [
       "<div>\n",
       "<style scoped>\n",
       "    .dataframe tbody tr th:only-of-type {\n",
       "        vertical-align: middle;\n",
       "    }\n",
       "\n",
       "    .dataframe tbody tr th {\n",
       "        vertical-align: top;\n",
       "    }\n",
       "\n",
       "    .dataframe thead th {\n",
       "        text-align: right;\n",
       "    }\n",
       "</style>\n",
       "<table border=\"1\" class=\"dataframe\">\n",
       "  <thead>\n",
       "    <tr style=\"text-align: right;\">\n",
       "      <th></th>\n",
       "      <th>episode</th>\n",
       "      <th>model1</th>\n",
       "      <th>model2</th>\n",
       "      <th>model3</th>\n",
       "    </tr>\n",
       "  </thead>\n",
       "  <tbody>\n",
       "    <tr>\n",
       "      <th>0</th>\n",
       "      <td>1</td>\n",
       "      <td>0.404545</td>\n",
       "      <td>0.404545</td>\n",
       "      <td>0.404545</td>\n",
       "    </tr>\n",
       "    <tr>\n",
       "      <th>1</th>\n",
       "      <td>2</td>\n",
       "      <td>0.388636</td>\n",
       "      <td>0.388636</td>\n",
       "      <td>0.429545</td>\n",
       "    </tr>\n",
       "    <tr>\n",
       "      <th>2</th>\n",
       "      <td>3</td>\n",
       "      <td>0.413636</td>\n",
       "      <td>0.427273</td>\n",
       "      <td>0.415909</td>\n",
       "    </tr>\n",
       "    <tr>\n",
       "      <th>3</th>\n",
       "      <td>4</td>\n",
       "      <td>0.397727</td>\n",
       "      <td>0.404545</td>\n",
       "      <td>0.404545</td>\n",
       "    </tr>\n",
       "    <tr>\n",
       "      <th>4</th>\n",
       "      <td>5</td>\n",
       "      <td>0.418182</td>\n",
       "      <td>0.422727</td>\n",
       "      <td>0.415909</td>\n",
       "    </tr>\n",
       "  </tbody>\n",
       "</table>\n",
       "</div>"
      ],
      "text/plain": [
       "   episode    model1    model2    model3\n",
       "0        1  0.404545  0.404545  0.404545\n",
       "1        2  0.388636  0.388636  0.429545\n",
       "2        3  0.413636  0.427273  0.415909\n",
       "3        4  0.397727  0.404545  0.404545\n",
       "4        5  0.418182  0.422727  0.415909"
      ]
     },
     "execution_count": 88,
     "metadata": {},
     "output_type": "execute_result"
    }
   ],
   "source": [
    "df = pd.DataFrame(dict(episode=np.arange(1, len(scores1)+1), model1=scores1, model2=scores2, model3=scores3))\n",
    "df.head()"
   ]
  },
  {
   "cell_type": "code",
   "execution_count": 98,
   "metadata": {},
   "outputs": [
    {
     "data": {
      "text/html": [
       "<div>\n",
       "<style scoped>\n",
       "    .dataframe tbody tr th:only-of-type {\n",
       "        vertical-align: middle;\n",
       "    }\n",
       "\n",
       "    .dataframe tbody tr th {\n",
       "        vertical-align: top;\n",
       "    }\n",
       "\n",
       "    .dataframe thead th {\n",
       "        text-align: right;\n",
       "    }\n",
       "</style>\n",
       "<table border=\"1\" class=\"dataframe\">\n",
       "  <thead>\n",
       "    <tr style=\"text-align: right;\">\n",
       "      <th></th>\n",
       "      <th>episode</th>\n",
       "      <th>model</th>\n",
       "      <th>score</th>\n",
       "    </tr>\n",
       "  </thead>\n",
       "  <tbody>\n",
       "    <tr>\n",
       "      <th>0</th>\n",
       "      <td>1</td>\n",
       "      <td>model1</td>\n",
       "      <td>0.404545</td>\n",
       "    </tr>\n",
       "    <tr>\n",
       "      <th>1</th>\n",
       "      <td>2</td>\n",
       "      <td>model1</td>\n",
       "      <td>0.388636</td>\n",
       "    </tr>\n",
       "    <tr>\n",
       "      <th>2</th>\n",
       "      <td>3</td>\n",
       "      <td>model1</td>\n",
       "      <td>0.413636</td>\n",
       "    </tr>\n",
       "    <tr>\n",
       "      <th>3</th>\n",
       "      <td>4</td>\n",
       "      <td>model1</td>\n",
       "      <td>0.397727</td>\n",
       "    </tr>\n",
       "    <tr>\n",
       "      <th>4</th>\n",
       "      <td>5</td>\n",
       "      <td>model1</td>\n",
       "      <td>0.418182</td>\n",
       "    </tr>\n",
       "  </tbody>\n",
       "</table>\n",
       "</div>"
      ],
      "text/plain": [
       "   episode   model     score\n",
       "0        1  model1  0.404545\n",
       "1        2  model1  0.388636\n",
       "2        3  model1  0.413636\n",
       "3        4  model1  0.397727\n",
       "4        5  model1  0.418182"
      ]
     },
     "execution_count": 98,
     "metadata": {},
     "output_type": "execute_result"
    }
   ],
   "source": [
    "df = df.melt(id_vars='episode', var_name='model', value_name='score')\n",
    "df.head()"
   ]
  },
  {
   "cell_type": "code",
   "execution_count": 99,
   "metadata": {},
   "outputs": [
    {
     "name": "stderr",
     "output_type": "stream",
     "text": [
      "/Users/czarrar/Dropbox/ABD/Areas/Lab_Work/paint_cats/myenv_paintcats/lib/python3.8/site-packages/plotnine/stats/smoothers.py:310: PlotnineWarning: Confidence intervals are not yet implementedfor lowess smoothings.\n",
      "/Users/czarrar/Dropbox/ABD/Areas/Lab_Work/paint_cats/myenv_paintcats/lib/python3.8/site-packages/plotnine/stats/smoothers.py:310: PlotnineWarning: Confidence intervals are not yet implementedfor lowess smoothings.\n",
      "/Users/czarrar/Dropbox/ABD/Areas/Lab_Work/paint_cats/myenv_paintcats/lib/python3.8/site-packages/plotnine/stats/smoothers.py:310: PlotnineWarning: Confidence intervals are not yet implementedfor lowess smoothings.\n"
     ]
    },
    {
     "data": {
      "image/png": "[encoded data removed]",
      "text/plain": [
       "<Figure size 640x480 with 1 Axes>"
      ]
     },
     "metadata": {},
     "output_type": "display_data"
    },
    {
     "data": {
      "text/plain": [
       "<ggplot: (8787581076438)>"
      ]
     },
     "execution_count": 99,
     "metadata": {},
     "output_type": "execute_result"
    }
   ],
   "source": [
    "pn.ggplot(df, pn.aes(x='episode', y='score', color='model')) + pn.geom_smooth()"
   ]
  },
  {
   "cell_type": "markdown",
   "metadata": {},
   "source": [
    "## Value Model\n",
    "\n",
    "This is the model where there is one Q network that takes in the states and outputs the value for the painting. The different Q values for left vs right painting are used to decide which painting to choose."
   ]
  },
  {
   "cell_type": "code",
   "execution_count": 102,
   "metadata": {},
   "outputs": [],
   "source": [
    "import value_agent\n",
    "#from importlib import reload\n",
    "#value_agent = reload(value_agent)\n",
    "Agent2 = value_agent.Agent"
   ]
  },
  {
   "cell_type": "code",
   "execution_count": 108,
   "metadata": {},
   "outputs": [],
   "source": [
    "def dqn(agent, n_episodes=100, eps_start=1.0, eps_end=0.1, eps_decay=0.98, \n",
    "        ckpt_path='pth_checkpoints/checkpoint.pth'):\n",
    "    \"\"\"Deep Q-Learning.\n",
    "    \n",
    "    Params\n",
    "    ======\n",
    "        agent (Agent): The agent\n",
    "        n_episodes (int): maximum number of training episodes\n",
    "        max_t (int): maximum number of timesteps per episode\n",
    "        eps_start (float): starting value of epsilon, for epsilon-greedy action selection\n",
    "        eps_end (float): minimum value of epsilon\n",
    "        eps_decay (float): multiplicative factor (per episode) for decreasing epsilon\n",
    "        train_mode (bool): if 'True' set environment to training mode\n",
    "    \"\"\"\n",
    "    scores = []                        # list containing scores from each episode\n",
    "    moving_avgs = []                   # list of moving averages\n",
    "    eps = eps_start                    # initialize epsilon\n",
    "    for i_episode in range(1, n_episodes+1):\n",
    "        state, reward, done, info = env.reset(full_reset=False) # reset environment\n",
    "        score = 0\n",
    "        for t in range(env.n_trials - 1):\n",
    "            pp_state = get_direct_state(info)\n",
    "            action = agent.act(pp_state, eps)                         # select an action\n",
    "            next_state, reward, done, info = env.step(action)      # send action to environment\n",
    "            pp_next_state = get_direct_state(info)\n",
    "            agent.step(pp_state, action, reward, pp_next_state, done) # learning step\n",
    "            state = next_state\n",
    "            score += reward\n",
    "            if done:\n",
    "                break\n",
    "        mean_score = score/t # keep scores in range of 0-1, allow comparison to humans above\n",
    "        scores.append(mean_score)            # save most recent score to total\n",
    "        moving_avg = np.mean(scores)         # calculate moving average\n",
    "        moving_avgs.append(moving_avg)       # save most recent moving average\n",
    "        eps = max(eps_end, eps_decay*eps)    # decrease epsilon\n",
    "        print('\\rEpisode {}\\tAverage Score: {:.2f}'.format(i_episode, moving_avg), end=\"\")\n",
    "        if i_episode % 5 == 0:\n",
    "            print('\\rEpisode {}\\tAverage Score: {:.2f}'.format(i_episode, moving_avg))\n",
    "    return scores, moving_avg"
   ]
  },
  {
   "cell_type": "code",
   "execution_count": 110,
   "metadata": {},
   "outputs": [
    {
     "name": "stdout",
     "output_type": "stream",
     "text": [
      "Episode 5\tAverage Score: 0.42\n",
      "Episode 10\tAverage Score: 0.42\n",
      "Episode 15\tAverage Score: 0.43\n",
      "Episode 20\tAverage Score: 0.43\n",
      "Episode 25\tAverage Score: 0.44\n",
      "Episode 30\tAverage Score: 0.44\n",
      "Episode 35\tAverage Score: 0.44\n",
      "Episode 40\tAverage Score: 0.44\n",
      "Episode 45\tAverage Score: 0.44\n",
      "Episode 50\tAverage Score: 0.45\n",
      "Episode 55\tAverage Score: 0.45\n",
      "Episode 60\tAverage Score: 0.45\n",
      "Episode 65\tAverage Score: 0.45\n",
      "Episode 70\tAverage Score: 0.45\n",
      "Episode 75\tAverage Score: 0.45\n",
      "Episode 80\tAverage Score: 0.45\n",
      "Episode 85\tAverage Score: 0.46\n",
      "Episode 90\tAverage Score: 0.46\n",
      "Episode 95\tAverage Score: 0.46\n",
      "Episode 100\tAverage Score: 0.46\n"
     ]
    }
   ],
   "source": [
    "config_dict = {\n",
    "    'seed': 42, \n",
    "    'buffer_size': int(1e2), \n",
    "    'batch_size': 32, \n",
    "    'gamma': 0.99, \n",
    "    'tau': 1e-2, \n",
    "    'loss_type': 'huber',\n",
    "    'gradient_clip': None, \n",
    "    'update_every': 4, \n",
    "    'lr': 5e-4, \n",
    "    'fc1_units': 32, \n",
    "    'fc2_units': 16, \n",
    "    'use_ddqn': False,\n",
    "    'use_dueling': False, \n",
    "    'use_per': False,\n",
    "    'per_a': 0.5, \n",
    "    'per_beta': 0.5\n",
    "}\n",
    "agent = Agent2(state_size=6, action_size=1, config_dict=config_dict)\n",
    "scores, avgs = dqn(agent, n_episodes=100, eps_decay=0.98, eps_end=0.1)"
   ]
  },
  {
   "cell_type": "code",
   "execution_count": 112,
   "metadata": {},
   "outputs": [
    {
     "data": {
      "text/html": [
       "<div>\n",
       "<style scoped>\n",
       "    .dataframe tbody tr th:only-of-type {\n",
       "        vertical-align: middle;\n",
       "    }\n",
       "\n",
       "    .dataframe tbody tr th {\n",
       "        vertical-align: top;\n",
       "    }\n",
       "\n",
       "    .dataframe thead th {\n",
       "        text-align: right;\n",
       "    }\n",
       "</style>\n",
       "<table border=\"1\" class=\"dataframe\">\n",
       "  <thead>\n",
       "    <tr style=\"text-align: right;\">\n",
       "      <th></th>\n",
       "      <th>episode</th>\n",
       "      <th>score</th>\n",
       "      <th>moving_average</th>\n",
       "    </tr>\n",
       "  </thead>\n",
       "  <tbody>\n",
       "    <tr>\n",
       "      <th>0</th>\n",
       "      <td>1</td>\n",
       "      <td>0.425000</td>\n",
       "      <td>0.461</td>\n",
       "    </tr>\n",
       "    <tr>\n",
       "      <th>1</th>\n",
       "      <td>2</td>\n",
       "      <td>0.436364</td>\n",
       "      <td>0.461</td>\n",
       "    </tr>\n",
       "    <tr>\n",
       "      <th>2</th>\n",
       "      <td>3</td>\n",
       "      <td>0.395455</td>\n",
       "      <td>0.461</td>\n",
       "    </tr>\n",
       "    <tr>\n",
       "      <th>3</th>\n",
       "      <td>4</td>\n",
       "      <td>0.452273</td>\n",
       "      <td>0.461</td>\n",
       "    </tr>\n",
       "    <tr>\n",
       "      <th>4</th>\n",
       "      <td>5</td>\n",
       "      <td>0.400000</td>\n",
       "      <td>0.461</td>\n",
       "    </tr>\n",
       "  </tbody>\n",
       "</table>\n",
       "</div>"
      ],
      "text/plain": [
       "   episode     score  moving_average\n",
       "0        1  0.425000           0.461\n",
       "1        2  0.436364           0.461\n",
       "2        3  0.395455           0.461\n",
       "3        4  0.452273           0.461\n",
       "4        5  0.400000           0.461"
      ]
     },
     "execution_count": 112,
     "metadata": {},
     "output_type": "execute_result"
    }
   ],
   "source": [
    "df = pd.DataFrame(dict(episode=np.arange(1, len(scores)+1), score=scores, moving_average=avgs))\n",
    "df.head()"
   ]
  },
  {
   "cell_type": "code",
   "execution_count": 113,
   "metadata": {},
   "outputs": [
    {
     "name": "stderr",
     "output_type": "stream",
     "text": [
      "/Users/czarrar/Dropbox/ABD/Areas/Lab_Work/paint_cats/myenv_paintcats/lib/python3.8/site-packages/plotnine/stats/smoothers.py:310: PlotnineWarning: Confidence intervals are not yet implementedfor lowess smoothings.\n"
     ]
    },
    {
     "data": {
      "image/png": "[encoded data removed]",
      "text/plain": [
       "<Figure size 640x480 with 1 Axes>"
      ]
     },
     "metadata": {},
     "output_type": "display_data"
    },
    {
     "data": {
      "text/plain": [
       "<ggplot: (8787582701291)>"
      ]
     },
     "execution_count": 113,
     "metadata": {},
     "output_type": "execute_result"
    }
   ],
   "source": [
    "pn.ggplot(df, pn.aes(x='episode', y='score')) + pn.geom_line() + pn.geom_smooth(color='blue')"
   ]
  },
  {
   "cell_type": "code",
   "execution_count": null,
   "metadata": {},
   "outputs": [],
   "source": []
  }
 ],
 "metadata": {
  "kernelspec": {
   "display_name": "myenv_paintcats",
   "language": "python",
   "name": "myenv_paintcats"
  },
  "language_info": {
   "codemirror_mode": {
    "name": "ipython",
    "version": 3
   },
   "file_extension": ".py",
   "mimetype": "text/x-python",
   "name": "python",
   "nbconvert_exporter": "python",
   "pygments_lexer": "ipython3",
   "version": "3.8.3"
  }
 },
 "nbformat": 4,
 "nbformat_minor": 4
}
