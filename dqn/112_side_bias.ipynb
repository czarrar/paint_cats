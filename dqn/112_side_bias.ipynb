{
 "cells": [
  {
   "cell_type": "markdown",
   "metadata": {},
   "source": [
    "I find that there is not much of an a repeated action bias in the actual data, in human responses, or in the DQN responses. If anything people seem to be strangely biased (very slightly) to not repeating their action. This is strange because usually people will tend to repeat their actions at least in more traditional bandit tasks."
   ]
  },
  {
   "cell_type": "markdown",
   "metadata": {},
   "source": [
    "# Setup"
   ]
  },
  {
   "cell_type": "code",
   "execution_count": 8,
   "metadata": {},
   "outputs": [],
   "source": [
    "import sys\n",
    "sys.path.append('../gym_art')\n",
    "\n",
    "from PIL import Image\n",
    "\n",
    "from paintings import PaintingEnv\n",
    "import numpy as np\n",
    "import pandas as pd\n",
    "from collections import defaultdict, namedtuple, deque\n",
    "\n",
    "from tqdm import tqdm\n",
    "import plotnine as pn\n",
    "\n",
    "from scipy import stats"
   ]
  },
  {
   "cell_type": "code",
   "execution_count": 22,
   "metadata": {},
   "outputs": [],
   "source": [
    "def prop_repeat(actions):\n",
    "    \"\"\"Returns the proportion of repeats given a set of actions taken\"\"\"\n",
    "    labs = np.abs(np.diff(actions))\n",
    "    labs = labs[labs<2]\n",
    "    return np.mean((labs==0))"
   ]
  },
  {
   "cell_type": "markdown",
   "metadata": {},
   "source": [
    "# Actual Side Bias\n",
    "\n",
    "I look into if within the data there is any bias to the action taken. Might the optimal choice be to one side or another?"
   ]
  },
  {
   "cell_type": "code",
   "execution_count": null,
   "metadata": {},
   "outputs": [],
   "source": [
    "env = PaintingEnv(state_type='object') # Outputs a top-layer of Inception with max-pooling"
   ]
  },
  {
   "cell_type": "code",
   "execution_count": 42,
   "metadata": {},
   "outputs": [],
   "source": [
    "state, reward, done, info = env.reset(full_reset=False) # reset environment"
   ]
  },
  {
   "cell_type": "code",
   "execution_count": 45,
   "metadata": {},
   "outputs": [
    {
     "data": {
      "text/plain": [
       "True"
      ]
     },
     "execution_count": 45,
     "metadata": {},
     "output_type": "execute_result"
    }
   ],
   "source": [
    "if info['left']['display_value'] > info['right']['display_value']:\n",
    "    action = 0\n",
    "else:\n",
    "    action = 1"
   ]
  },
  {
   "cell_type": "code",
   "execution_count": 49,
   "metadata": {},
   "outputs": [
    {
     "name": "stderr",
     "output_type": "stream",
     "text": [
      "100%|███████████████████████████████████████████| 25/25 [01:42<00:00,  4.09s/it]\n"
     ]
    }
   ],
   "source": [
    "# Repeat this 25 times to get distribution of repeats\n",
    "actions = []\n",
    "for _ in tqdm(range(25)):\n",
    "    state, reward, done, info = env.reset(full_reset=True) # reset environment\n",
    "    score = 0\n",
    "    episode_actions = []\n",
    "    for t in range(env.n_trials - 1):\n",
    "        if info['left']['display_value'] > info['right']['display_value']:\n",
    "            action = 0\n",
    "        else:\n",
    "            action = 1\n",
    "        next_state, reward, done, info = env.step(action)   # send action to environment\n",
    "        score += reward\n",
    "        episode_actions.append(action)\n",
    "        if done:\n",
    "            break\n",
    "    actions.append(episode_actions)"
   ]
  },
  {
   "cell_type": "code",
   "execution_count": 51,
   "metadata": {},
   "outputs": [],
   "source": [
    "batch_prop_repeats = np.array([ prop_repeat(a_s) for a_s in actions ])"
   ]
  },
  {
   "cell_type": "code",
   "execution_count": 52,
   "metadata": {},
   "outputs": [
    {
     "data": {
      "text/plain": [
       "0.5081818181818182"
      ]
     },
     "execution_count": 52,
     "metadata": {},
     "output_type": "execute_result"
    }
   ],
   "source": [
    "batch_prop_repeats.mean()"
   ]
  },
  {
   "cell_type": "code",
   "execution_count": 53,
   "metadata": {},
   "outputs": [
    {
     "data": {
      "text/plain": [
       "Ttest_1sampResult(statistic=0.9843024095729692, pvalue=0.33478647145727447)"
      ]
     },
     "execution_count": 53,
     "metadata": {},
     "output_type": "execute_result"
    }
   ],
   "source": [
    "stats.ttest_1samp(batch_prop_repeats, 0.5)"
   ]
  },
  {
   "cell_type": "code",
   "execution_count": 54,
   "metadata": {},
   "outputs": [],
   "source": [
    "df = pd.DataFrame({'batch': list(range(1,len(batch_prop_repeats)+1)), 'prop_repeats': batch_prop_repeats})"
   ]
  },
  {
   "cell_type": "code",
   "execution_count": 58,
   "metadata": {},
   "outputs": [
    {
     "data": {
      "image/png": "[encoded data removed]",
      "text/plain": [
       "<Figure size 640x480 with 1 Axes>"
      ]
     },
     "metadata": {},
     "output_type": "display_data"
    },
    {
     "data": {
      "text/plain": [
       "<ggplot: (8768340364174)>"
      ]
     },
     "execution_count": 58,
     "metadata": {},
     "output_type": "execute_result"
    }
   ],
   "source": [
    "(pn.ggplot(df, pn.aes(x='prop_repeats')) + \n",
    " pn.geom_histogram(bins=16) + \n",
    " pn.geom_vline(xintercept=np.mean(episode_prop_repeats), color='red') +\n",
    " pn.geom_vline(xintercept=0.5, color='black', linetype='dotted', size=1) + \n",
    " pn.xlab('Proportion of Repeated Actions'))"
   ]
  },
  {
   "cell_type": "markdown",
   "metadata": {},
   "source": [
    "# Side Bias of People\n",
    "\n",
    "I want to investigate if people have any bias in the side that they choose.\n",
    "\n",
    "The result is that people don't appear to have a strong bias. On average people repeat their action with a probability of 0.474. Though the value does appear to be significantly different from 0.5 (chance). "
   ]
  },
  {
   "cell_type": "markdown",
   "metadata": {},
   "source": [
    "## Setup"
   ]
  },
  {
   "cell_type": "code",
   "execution_count": 2,
   "metadata": {},
   "outputs": [
    {
     "data": {
      "text/html": [
       "<div>\n",
       "<style scoped>\n",
       "    .dataframe tbody tr th:only-of-type {\n",
       "        vertical-align: middle;\n",
       "    }\n",
       "\n",
       "    .dataframe tbody tr th {\n",
       "        vertical-align: top;\n",
       "    }\n",
       "\n",
       "    .dataframe thead th {\n",
       "        text-align: right;\n",
       "    }\n",
       "</style>\n",
       "<table border=\"1\" class=\"dataframe\">\n",
       "  <thead>\n",
       "    <tr style=\"text-align: right;\">\n",
       "      <th></th>\n",
       "      <th>trial</th>\n",
       "      <th>subject</th>\n",
       "      <th>ttype</th>\n",
       "      <th>run</th>\n",
       "      <th>gallery_left</th>\n",
       "      <th>gallery_right</th>\n",
       "      <th>art_left</th>\n",
       "      <th>art_right</th>\n",
       "      <th>stim_left</th>\n",
       "      <th>stim_right</th>\n",
       "      <th>...</th>\n",
       "      <th>chosen_val</th>\n",
       "      <th>chosen_gal</th>\n",
       "      <th>chosen_art</th>\n",
       "      <th>chosen_stim</th>\n",
       "      <th>unchosen_val</th>\n",
       "      <th>unchosen_gal</th>\n",
       "      <th>unchosen_art</th>\n",
       "      <th>unchosen_stim</th>\n",
       "      <th>chosen_val_grp</th>\n",
       "      <th>unchosen_val_grp</th>\n",
       "    </tr>\n",
       "  </thead>\n",
       "  <tbody>\n",
       "    <tr>\n",
       "      <th>0</th>\n",
       "      <td>1</td>\n",
       "      <td>29svyahw</td>\n",
       "      <td>learn_value</td>\n",
       "      <td>1</td>\n",
       "      <td>Cordelia</td>\n",
       "      <td>Cordelia</td>\n",
       "      <td>Mon</td>\n",
       "      <td>Mon</td>\n",
       "      <td>Monb2n.jpeg</td>\n",
       "      <td>Monb1n.jpeg</td>\n",
       "      <td>...</td>\n",
       "      <td>80.0</td>\n",
       "      <td>Cordelia</td>\n",
       "      <td>Mon</td>\n",
       "      <td>Monb2n.jpeg</td>\n",
       "      <td>60.0</td>\n",
       "      <td>Cordelia</td>\n",
       "      <td>Mon</td>\n",
       "      <td>Monb1n.jpeg</td>\n",
       "      <td>high</td>\n",
       "      <td>high</td>\n",
       "    </tr>\n",
       "    <tr>\n",
       "      <th>1</th>\n",
       "      <td>2</td>\n",
       "      <td>29svyahw</td>\n",
       "      <td>learn_value</td>\n",
       "      <td>1</td>\n",
       "      <td>Cordelia</td>\n",
       "      <td>Cordelia</td>\n",
       "      <td>Mon</td>\n",
       "      <td>Mon</td>\n",
       "      <td>Mondb2.jpeg</td>\n",
       "      <td>Mondb3.jpeg</td>\n",
       "      <td>...</td>\n",
       "      <td>60.0</td>\n",
       "      <td>Cordelia</td>\n",
       "      <td>Mon</td>\n",
       "      <td>Mondb2.jpeg</td>\n",
       "      <td>40.0</td>\n",
       "      <td>Cordelia</td>\n",
       "      <td>Mon</td>\n",
       "      <td>Mondb3.jpeg</td>\n",
       "      <td>high</td>\n",
       "      <td>high</td>\n",
       "    </tr>\n",
       "    <tr>\n",
       "      <th>2</th>\n",
       "      <td>3</td>\n",
       "      <td>29svyahw</td>\n",
       "      <td>learn_value</td>\n",
       "      <td>1</td>\n",
       "      <td>Cordelia</td>\n",
       "      <td>Marina</td>\n",
       "      <td>Mon</td>\n",
       "      <td>Rot</td>\n",
       "      <td>Monb3n.jpeg</td>\n",
       "      <td>Rota1n.jpeg</td>\n",
       "      <td>...</td>\n",
       "      <td>20.0</td>\n",
       "      <td>Marina</td>\n",
       "      <td>Rot</td>\n",
       "      <td>Rota1n.jpeg</td>\n",
       "      <td>60.0</td>\n",
       "      <td>Cordelia</td>\n",
       "      <td>Mon</td>\n",
       "      <td>Monb3n.jpeg</td>\n",
       "      <td>low</td>\n",
       "      <td>high</td>\n",
       "    </tr>\n",
       "    <tr>\n",
       "      <th>3</th>\n",
       "      <td>4</td>\n",
       "      <td>29svyahw</td>\n",
       "      <td>learn_value</td>\n",
       "      <td>1</td>\n",
       "      <td>Marina</td>\n",
       "      <td>Marina</td>\n",
       "      <td>Rot</td>\n",
       "      <td>Rot</td>\n",
       "      <td>Rothb2.jpeg</td>\n",
       "      <td>Rota1n.jpeg</td>\n",
       "      <td>...</td>\n",
       "      <td>20.0</td>\n",
       "      <td>Marina</td>\n",
       "      <td>Rot</td>\n",
       "      <td>Rothb2.jpeg</td>\n",
       "      <td>20.0</td>\n",
       "      <td>Marina</td>\n",
       "      <td>Rot</td>\n",
       "      <td>Rota1n.jpeg</td>\n",
       "      <td>low</td>\n",
       "      <td>low</td>\n",
       "    </tr>\n",
       "    <tr>\n",
       "      <th>4</th>\n",
       "      <td>5</td>\n",
       "      <td>29svyahw</td>\n",
       "      <td>learn_value</td>\n",
       "      <td>1</td>\n",
       "      <td>Marina</td>\n",
       "      <td>Cordelia</td>\n",
       "      <td>Rot</td>\n",
       "      <td>Mon</td>\n",
       "      <td>Rothb2.jpeg</td>\n",
       "      <td>Monb2n.jpeg</td>\n",
       "      <td>...</td>\n",
       "      <td>80.0</td>\n",
       "      <td>Cordelia</td>\n",
       "      <td>Mon</td>\n",
       "      <td>Monb2n.jpeg</td>\n",
       "      <td>20.0</td>\n",
       "      <td>Marina</td>\n",
       "      <td>Rot</td>\n",
       "      <td>Rothb2.jpeg</td>\n",
       "      <td>high</td>\n",
       "      <td>low</td>\n",
       "    </tr>\n",
       "  </tbody>\n",
       "</table>\n",
       "<p>5 rows × 25 columns</p>\n",
       "</div>"
      ],
      "text/plain": [
       "   trial   subject        ttype  run gallery_left gallery_right art_left  \\\n",
       "0      1  29svyahw  learn_value    1     Cordelia      Cordelia      Mon   \n",
       "1      2  29svyahw  learn_value    1     Cordelia      Cordelia      Mon   \n",
       "2      3  29svyahw  learn_value    1     Cordelia        Marina      Mon   \n",
       "3      4  29svyahw  learn_value    1       Marina        Marina      Rot   \n",
       "4      5  29svyahw  learn_value    1       Marina      Cordelia      Rot   \n",
       "\n",
       "  art_right    stim_left   stim_right  ...  chosen_val  chosen_gal  \\\n",
       "0       Mon  Monb2n.jpeg  Monb1n.jpeg  ...        80.0    Cordelia   \n",
       "1       Mon  Mondb2.jpeg  Mondb3.jpeg  ...        60.0    Cordelia   \n",
       "2       Rot  Monb3n.jpeg  Rota1n.jpeg  ...        20.0      Marina   \n",
       "3       Rot  Rothb2.jpeg  Rota1n.jpeg  ...        20.0      Marina   \n",
       "4       Mon  Rothb2.jpeg  Monb2n.jpeg  ...        80.0    Cordelia   \n",
       "\n",
       "   chosen_art  chosen_stim unchosen_val  unchosen_gal unchosen_art  \\\n",
       "0         Mon  Monb2n.jpeg         60.0      Cordelia          Mon   \n",
       "1         Mon  Mondb2.jpeg         40.0      Cordelia          Mon   \n",
       "2         Rot  Rota1n.jpeg         60.0      Cordelia          Mon   \n",
       "3         Rot  Rothb2.jpeg         20.0        Marina          Rot   \n",
       "4         Mon  Monb2n.jpeg         20.0        Marina          Rot   \n",
       "\n",
       "  unchosen_stim chosen_val_grp  unchosen_val_grp  \n",
       "0   Monb1n.jpeg           high              high  \n",
       "1   Mondb3.jpeg           high              high  \n",
       "2   Monb3n.jpeg            low              high  \n",
       "3   Rota1n.jpeg            low               low  \n",
       "4   Rothb2.jpeg           high               low  \n",
       "\n",
       "[5 rows x 25 columns]"
      ]
     },
     "execution_count": 2,
     "metadata": {},
     "output_type": "execute_result"
    }
   ],
   "source": [
    "dat = pd.read_csv(\"y_data_catlearn.csv\", index_col=0).reset_index(drop=True)\n",
    "dat.head()"
   ]
  },
  {
   "cell_type": "code",
   "execution_count": 4,
   "metadata": {},
   "outputs": [
    {
     "data": {
      "text/plain": [
       "0.4090909090909091"
      ]
     },
     "execution_count": 4,
     "metadata": {},
     "output_type": "execute_result"
    }
   ],
   "source": [
    "actions = dat.loc[dat.subject == '29svyahw', 'choice'].astype('category').cat.codes\n",
    "prop_repeat(actions)"
   ]
  },
  {
   "cell_type": "markdown",
   "metadata": {},
   "source": [
    "## Measure Repitition"
   ]
  },
  {
   "cell_type": "code",
   "execution_count": 5,
   "metadata": {},
   "outputs": [],
   "source": [
    "# Get the proportion of repeat actions taken per subject\n",
    "subj_repeats = dat.groupby('subject').apply(lambda x: prop_repeat(x.choice.astype('category').cat.codes))"
   ]
  },
  {
   "cell_type": "code",
   "execution_count": 6,
   "metadata": {},
   "outputs": [
    {
     "data": {
      "text/plain": [
       "subject\n",
       "0c5elj2l    0.539326\n",
       "0q4hzu7r    0.494382\n",
       "0rx8wkq0    0.438202\n",
       "1w1m6w5v    0.393258\n",
       "1x880j6k    0.404494\n",
       "              ...   \n",
       "xskb7u61    0.494382\n",
       "yko5at2v    0.359551\n",
       "yv9953n7    0.561798\n",
       "z61jpn72    0.409091\n",
       "zr94qfhc    0.528090\n",
       "Length: 100, dtype: float64"
      ]
     },
     "execution_count": 6,
     "metadata": {},
     "output_type": "execute_result"
    }
   ],
   "source": [
    "subj_repeats"
   ]
  },
  {
   "cell_type": "code",
   "execution_count": 12,
   "metadata": {},
   "outputs": [
    {
     "data": {
      "text/plain": [
       "0.4742176511335752"
      ]
     },
     "execution_count": 12,
     "metadata": {},
     "output_type": "execute_result"
    }
   ],
   "source": [
    "subj_repeats.mean()"
   ]
  },
  {
   "cell_type": "code",
   "execution_count": 13,
   "metadata": {},
   "outputs": [
    {
     "data": {
      "text/plain": [
       "0.48314606741573035"
      ]
     },
     "execution_count": 13,
     "metadata": {},
     "output_type": "execute_result"
    }
   ],
   "source": [
    "subj_repeats.median()"
   ]
  },
  {
   "cell_type": "code",
   "execution_count": 10,
   "metadata": {},
   "outputs": [
    {
     "data": {
      "text/plain": [
       "Ttest_1sampResult(statistic=-3.2517635090758112, pvalue=0.0015685218597457338)"
      ]
     },
     "execution_count": 10,
     "metadata": {},
     "output_type": "execute_result"
    }
   ],
   "source": [
    "stats.ttest_1samp(subj_repeats, 0.5)"
   ]
  },
  {
   "cell_type": "code",
   "execution_count": 7,
   "metadata": {},
   "outputs": [
    {
     "name": "stderr",
     "output_type": "stream",
     "text": [
      "/Users/czarrar/Dropbox/ABD/Areas/Lab_Work/paint_cats/myenv_paintcats/lib/python3.8/site-packages/plotnine/stats/stat_bin.py:95: PlotnineWarning: 'stat_bin()' using 'bins = 16'. Pick better value with 'binwidth'.\n"
     ]
    },
    {
     "data": {
      "image/png": "[encoded data removed]",
      "text/plain": [
       "<Figure size 640x480 with 1 Axes>"
      ]
     },
     "metadata": {},
     "output_type": "display_data"
    },
    {
     "data": {
      "text/plain": [
       "<ggplot: (8768491311086)>"
      ]
     },
     "execution_count": 7,
     "metadata": {},
     "output_type": "execute_result"
    }
   ],
   "source": [
    "df = subj_repeats.to_frame(name='x')\n",
    "(pn.ggplot(df, pn.aes(x='x')) + \n",
    " pn.geom_histogram() + \n",
    " pn.geom_vline(xintercept=np.mean(subj_repeats), color='red') +\n",
    " pn.geom_vline(xintercept=0.5, color='black', linetype='dotted', size=1) + \n",
    " pn.xlab('Proportion of Repeated Actions'))"
   ]
  },
  {
   "cell_type": "markdown",
   "metadata": {},
   "source": [
    "# The Machines\n",
    "\n",
    "Does the DQN have any action bias? It seems like there is really no bias overall. There seems to be a bias towards repeating the action towards the end."
   ]
  },
  {
   "cell_type": "code",
   "execution_count": 14,
   "metadata": {},
   "outputs": [
    {
     "name": "stderr",
     "output_type": "stream",
     "text": [
      "2022-02-12 13:21:20.814366: I tensorflow/core/platform/cpu_feature_guard.cc:151] This TensorFlow binary is optimized with oneAPI Deep Neural Network Library (oneDNN) to use the following CPU instructions in performance-critical operations:  AVX2 FMA\n",
      "To enable them in other operations, rebuild TensorFlow with the appropriate compiler flags.\n"
     ]
    }
   ],
   "source": [
    "env = PaintingEnv(state_type='object') # Outputs a top-layer of Inception with max-pooling"
   ]
  },
  {
   "cell_type": "code",
   "execution_count": 15,
   "metadata": {},
   "outputs": [],
   "source": [
    "import agent\n",
    "#from importlib import reload\n",
    "#agent = reload(agent)\n",
    "Agent = agent.Agent"
   ]
  },
  {
   "cell_type": "code",
   "execution_count": 17,
   "metadata": {},
   "outputs": [],
   "source": [
    "def dqn(agent, n_episodes=1000, eps_start=1.0, eps_end=0.1, eps_decay=0.995, train_mode=True, \n",
    "        ckpt_path='pth_checkpoints/checkpoint.pth'):\n",
    "    \"\"\"Deep Q-Learning.\n",
    "    \n",
    "    Params\n",
    "    ======\n",
    "        agent (Agent): The agent\n",
    "        n_episodes (int): maximum number of training episodes\n",
    "        max_t (int): maximum number of timesteps per episode\n",
    "        eps_start (float): starting value of epsilon, for epsilon-greedy action selection\n",
    "        eps_end (float): minimum value of epsilon\n",
    "        eps_decay (float): multiplicative factor (per episode) for decreasing epsilon\n",
    "        train_mode (bool): if 'True' set environment to training mode\n",
    "    \"\"\"\n",
    "    actions = []\n",
    "    scores = []                        # list containing scores from each episode\n",
    "    scores_window = deque(maxlen=100)  # last 100 scores\n",
    "    moving_avgs = []                   # list of moving averages\n",
    "    eps = eps_start                    # initialize epsilon\n",
    "    for i_episode in range(1, n_episodes+1):\n",
    "        episode_actions = []\n",
    "        state, reward, done, info = env.reset(full_reset=False) # reset environment\n",
    "        score = 0\n",
    "        for t in range(env.n_trials - 1):\n",
    "            pp_state = np.hstack(state)                 # from raw pixels to high-lvl visual reps\n",
    "            action = agent.act(pp_state, eps)                   # select an action\n",
    "            next_state, reward, done, info = env.step(action)   # send action to environment\n",
    "            pp_next_state = np.hstack(next_state)       # from raw pixels to high-lvl visual reps\n",
    "            agent.step(pp_state, action, reward, pp_next_state, done) # learning step\n",
    "            state = next_state\n",
    "            score += reward\n",
    "            episode_actions.append(action)\n",
    "            if done:\n",
    "                break\n",
    "        actions.append(episode_actions)\n",
    "        mean_score = score/t # keep scores in range of 0-1, allow comparison to humans above\n",
    "        scores_window.append(mean_score)          # save most recent score to window\n",
    "        scores.append(mean_score)                 # save most recent score to total\n",
    "        moving_avg = np.mean(scores_window)  # calculate moving average\n",
    "        moving_avgs.append(moving_avg)       # save most recent moving average\n",
    "        eps = max(eps_end, eps_decay*eps)    # decrease epsilon\n",
    "        print('\\rEpisode {}\\tAverage Score: {:.2f}'.format(i_episode, moving_avg), end=\"\")\n",
    "        if i_episode % 5 == 0:\n",
    "            print('\\rEpisode {}\\tAverage Score: {:.2f}'.format(i_episode, moving_avg))\n",
    "    return scores, moving_avgs, actions"
   ]
  },
  {
   "cell_type": "code",
   "execution_count": 27,
   "metadata": {},
   "outputs": [
    {
     "name": "stdout",
     "output_type": "stream",
     "text": [
      "Episode 5\tAverage Score: 0.41\n",
      "Episode 10\tAverage Score: 0.41\n",
      "Episode 15\tAverage Score: 0.42\n",
      "Episode 20\tAverage Score: 0.42\n",
      "Episode 25\tAverage Score: 0.42\n",
      "Episode 30\tAverage Score: 0.42\n",
      "Episode 35\tAverage Score: 0.43\n",
      "Episode 40\tAverage Score: 0.43\n",
      "Episode 45\tAverage Score: 0.43\n",
      "Episode 50\tAverage Score: 0.44\n",
      "Episode 55\tAverage Score: 0.44\n",
      "Episode 60\tAverage Score: 0.44\n",
      "Episode 65\tAverage Score: 0.45\n",
      "Episode 70\tAverage Score: 0.45\n",
      "Episode 75\tAverage Score: 0.45\n",
      "Episode 80\tAverage Score: 0.46\n",
      "Episode 85\tAverage Score: 0.46\n",
      "Episode 90\tAverage Score: 0.46\n",
      "Episode 95\tAverage Score: 0.46\n",
      "Episode 100\tAverage Score: 0.46\n"
     ]
    }
   ],
   "source": [
    "config_dict = {\n",
    "    'seed': 42, \n",
    "    'buffer_size': int(1e2), \n",
    "    'batch_size': 32, \n",
    "    'gamma': 0,  # 0 gamma\n",
    "    'tau': 1e-2, \n",
    "    'loss_type': 'huber',\n",
    "    'gradient_clip': None, \n",
    "    'update_every': 4, \n",
    "    'lr': 5e-4, \n",
    "    'fc1_units': 64, \n",
    "    'fc2_units': 32, \n",
    "    'use_ddqn': False,\n",
    "    'use_dueling': False, \n",
    "    'use_per': False,\n",
    "    'per_a': 0.5, \n",
    "    'per_beta': 0.5\n",
    "}\n",
    "agent = Agent(state_size=2048*2, action_size=2, config_dict=config_dict)\n",
    "scores, avgs, actions = dqn(agent, n_episodes=100, eps_decay=0.98, eps_end=0.1)"
   ]
  },
  {
   "cell_type": "code",
   "execution_count": 31,
   "metadata": {},
   "outputs": [],
   "source": [
    "episode_prop_repeats = np.array([ prop_repeat(a_s) for a_s in actions ])"
   ]
  },
  {
   "cell_type": "code",
   "execution_count": 33,
   "metadata": {},
   "outputs": [
    {
     "data": {
      "text/plain": [
       "0.5056818181818182"
      ]
     },
     "execution_count": 33,
     "metadata": {},
     "output_type": "execute_result"
    }
   ],
   "source": [
    "episode_prop_repeats.mean()"
   ]
  },
  {
   "cell_type": "code",
   "execution_count": 32,
   "metadata": {},
   "outputs": [
    {
     "data": {
      "text/plain": [
       "Ttest_1sampResult(statistic=0.9822994862575117, pvalue=0.328346840332578)"
      ]
     },
     "execution_count": 32,
     "metadata": {},
     "output_type": "execute_result"
    }
   ],
   "source": [
    "stats.ttest_1samp(episode_prop_repeats, 0.5)"
   ]
  },
  {
   "cell_type": "code",
   "execution_count": 37,
   "metadata": {},
   "outputs": [],
   "source": [
    "df = pd.DataFrame({'episode': list(range(1,len(episode_prop_repeats)+1)), 'prop_repeats': episode_prop_repeats})"
   ]
  },
  {
   "cell_type": "code",
   "execution_count": 38,
   "metadata": {},
   "outputs": [
    {
     "name": "stderr",
     "output_type": "stream",
     "text": [
      "/Users/czarrar/Dropbox/ABD/Areas/Lab_Work/paint_cats/myenv_paintcats/lib/python3.8/site-packages/plotnine/stats/stat_bin.py:95: PlotnineWarning: 'stat_bin()' using 'bins = 11'. Pick better value with 'binwidth'.\n"
     ]
    },
    {
     "data": {
      "image/png": "[encoded data removed]",
      "text/plain": [
       "<Figure size 640x480 with 1 Axes>"
      ]
     },
     "metadata": {},
     "output_type": "display_data"
    },
    {
     "data": {
      "text/plain": [
       "<ggplot: (8768494592431)>"
      ]
     },
     "execution_count": 38,
     "metadata": {},
     "output_type": "execute_result"
    }
   ],
   "source": [
    "(pn.ggplot(df, pn.aes(x='prop_repeats')) + \n",
    " pn.geom_histogram() + \n",
    " pn.geom_vline(xintercept=np.mean(episode_prop_repeats), color='red') +\n",
    " pn.geom_vline(xintercept=0.5, color='black', linetype='dotted', size=1) + \n",
    " pn.xlab('Proportion of Repeated Actions'))"
   ]
  },
  {
   "cell_type": "code",
   "execution_count": 41,
   "metadata": {},
   "outputs": [
    {
     "name": "stderr",
     "output_type": "stream",
     "text": [
      "/Users/czarrar/Dropbox/ABD/Areas/Lab_Work/paint_cats/myenv_paintcats/lib/python3.8/site-packages/plotnine/stats/smoothers.py:310: PlotnineWarning: Confidence intervals are not yet implementedfor lowess smoothings.\n"
     ]
    },
    {
     "data": {
      "image/png": "[encoded data removed]",
      "text/plain": [
       "<Figure size 640x480 with 1 Axes>"
      ]
     },
     "metadata": {},
     "output_type": "display_data"
    },
    {
     "data": {
      "text/plain": [
       "<ggplot: (8768370883828)>"
      ]
     },
     "execution_count": 41,
     "metadata": {},
     "output_type": "execute_result"
    }
   ],
   "source": [
    "(pn.ggplot(df, pn.aes(x='episode', y='prop_repeats')) + \n",
    " pn.geom_line() + pn.geom_smooth(color='blue') +\n",
    " pn.geom_hline(yintercept=0.5, color='black', linetype='dotted', size=1) + \n",
    " pn.ylab('Proportion of Repeated Actions') +\n",
    " pn.xlab('Episode')\n",
    ")"
   ]
  },
  {
   "cell_type": "code",
   "execution_count": null,
   "metadata": {},
   "outputs": [],
   "source": []
  }
 ],
 "metadata": {
  "kernelspec": {
   "display_name": "myenv_paintcats",
   "language": "python",
   "name": "myenv_paintcats"
  },
  "language_info": {
   "codemirror_mode": {
    "name": "ipython",
    "version": 3
   },
   "file_extension": ".py",
   "mimetype": "text/x-python",
   "name": "python",
   "nbconvert_exporter": "python",
   "pygments_lexer": "ipython3",
   "version": "3.8.3"
  }
 },
 "nbformat": 4,
 "nbformat_minor": 4
}
